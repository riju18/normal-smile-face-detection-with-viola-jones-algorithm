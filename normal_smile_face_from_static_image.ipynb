{
 "cells": [
  {
   "cell_type": "code",
   "execution_count": 28,
   "metadata": {},
   "outputs": [],
   "source": [
    "import cv2\n",
    "import os"
   ]
  },
  {
   "cell_type": "code",
   "execution_count": 29,
   "metadata": {},
   "outputs": [],
   "source": [
    "folder = os.getcwd()\n",
    "folder = folder.replace('\\\\','/')\n",
    "folder = folder + '/'"
   ]
  },
  {
   "cell_type": "code",
   "execution_count": 30,
   "metadata": {},
   "outputs": [],
   "source": [
    "# cascade load\n",
    "\n",
    "face_cascade = cv2.CascadeClassifier('haarcascade_frontalface_default.xml')\n",
    "eye_cascade = cv2.CascadeClassifier('haarcascade_eye.xml')\n",
    "smile_face_cascade = cv2.CascadeClassifier('haarCascade_smile.xml')"
   ]
  },
  {
   "cell_type": "code",
   "execution_count": 31,
   "metadata": {},
   "outputs": [],
   "source": [
    "def detect(gray, originalImage):\n",
    "    faces = face_cascade.detectMultiScale(gray, 1.3, 5) \n",
    "    for(x, y, w, h) in faces:\n",
    "        cv2.rectangle(originalImage, (x, y), (x + w, y + h), (255, 0, 0), 2  )\n",
    "        roi_gray = gray[y:y+h, x:x+w]\n",
    "        roi_original = originalImage[y:y+h, x:x+w]\n",
    "        eyes = eye_cascade.detectMultiScale(roi_gray, 1.1, 22)\n",
    "        for(ex, ey, ew, eh) in eyes:\n",
    "            cv2.rectangle(roi_original, (ex, ey), (ex + ew, ey + eh), (0, 255, 0), 2  )\n",
    "        smile = smile_face_cascade.detectMultiScale(roi_gray, 1.7, 22)\n",
    "        for(sx, sy, sw, sh) in smile:\n",
    "            cv2.rectangle(roi_original, (sx, sy), (sx + sw, sy + sh), (0, 0, 255), 2  )\n",
    "    return originalImage"
   ]
  },
  {
   "cell_type": "code",
   "execution_count": 35,
   "metadata": {},
   "outputs": [
    {
     "data": {
      "text/plain": [
       "-1"
      ]
     },
     "execution_count": 35,
     "metadata": {},
     "output_type": "execute_result"
    }
   ],
   "source": [
    "# face recogniton through webcam\n",
    "\n",
    "# pram: 0/1; 0:internal webcam, 1:external webcam\n",
    "image_capture = cv2.imread('imgonline-com-ua-shape-vXiHLYWs6dal.png')\n",
    "gray = cv2.cvtColor(image_capture, cv2.COLOR_BGR2GRAY);\n",
    "canvas = detect(gray, image_capture)\n",
    "cv2.imshow('smile image detect', canvas)\n",
    "mySmileImg = folder + 'mySmileImg.png'\n",
    "# cv2.imwrite('C:/Users/This Pc/Desktop/data_science_begin/AI/CV/normal_smile_face_detection_voila_jones_algorithm/abc.png', canvas)\n",
    "cv2.imwrite(mySmileImg, canvas)\n",
    "cv2.waitKey()"
   ]
  },
  {
   "cell_type": "code",
   "execution_count": null,
   "metadata": {},
   "outputs": [],
   "source": []
  }
 ],
 "metadata": {
  "kernelspec": {
   "display_name": "Python 3",
   "language": "python",
   "name": "python3"
  },
  "language_info": {
   "codemirror_mode": {
    "name": "ipython",
    "version": 3
   },
   "file_extension": ".py",
   "mimetype": "text/x-python",
   "name": "python",
   "nbconvert_exporter": "python",
   "pygments_lexer": "ipython3",
   "version": "3.6.8"
  }
 },
 "nbformat": 4,
 "nbformat_minor": 2
}
