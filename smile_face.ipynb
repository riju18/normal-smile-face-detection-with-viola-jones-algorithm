{
 "cells": [
  {
   "cell_type": "code",
   "execution_count": 1,
   "metadata": {},
   "outputs": [],
   "source": [
    "import cv2"
   ]
  },
  {
   "cell_type": "code",
   "execution_count": 2,
   "metadata": {},
   "outputs": [],
   "source": [
    "# cascade load\n",
    "\n",
    "face_cascade = cv2.CascadeClassifier('haarcascade_frontalface_default.xml')\n",
    "eye_cascade = cv2.CascadeClassifier('haarcascade_eye.xml')\n",
    "smile_face_cascade = cv2.CascadeClassifier('haarCascade_smile.xml')"
   ]
  },
  {
   "cell_type": "code",
   "execution_count": 3,
   "metadata": {},
   "outputs": [],
   "source": [
    "def detect(gray, originalImage):\n",
    "    # 2nd: scaling(how much the image size will be reduced), 3rd: no of neighbours\n",
    "    faces = face_cascade.detectMultiScale(gray, 1.3, 5) \n",
    "    # for loop for iterating all faces & draw a rectangle\n",
    "    for(x, y, w, h) in faces:\n",
    "        # for loop for draw rectangle: 1st: our image, 2nd: upper left corner coordinate, 3rd: lower right corner coordinate, 4th: rectangle color, \n",
    "        # 5th:the edge of thickness of rectangle  \n",
    "        cv2.rectangle(originalImage, (x, y), (x + w, y + h), (255, 0, 0), 2  )\n",
    "        # 2 region of interest:\n",
    "        # 1: the zone inside the rectangle inside the black & white image\n",
    "        # 2: the zone inside the rectangle inside the original color image\n",
    "        roi_gray = gray[y:y+h, x:x+w]\n",
    "        roi_original = originalImage[y:y+h, x:x+w]\n",
    "        # detech eye: \n",
    "        # 1st para: detect eye from gray rectangle, 2nd: scaling(how much the image size will be reduced), 3rd: no of neighbours\n",
    "        eyes = eye_cascade.detectMultiScale(roi_gray, 1.1, 22)\n",
    "        # for loop for iterating all eyes & draw a rectangle\n",
    "        for(ex, ey, ew, eh) in eyes:\n",
    "            \n",
    "        # for loop for draw rectangle: 1st: our image, 2nd: upper left corner coordinate, 3rd: lower right corner coordinate, 4th: rectangle color, \n",
    "        # 5th:the edge of thickness of rectangle  \n",
    "            cv2.rectangle(roi_original, (ex, ey), (ex + ew, ey + eh), (0, 255, 0), 2  )\n",
    "            \n",
    "        smile = smile_face_cascade.detectMultiScale(roi_gray, 1.7, 22)\n",
    "        # for loop for iterating all eyes & draw a rectangle\n",
    "        for(sx, sy, sw, sh) in smile:\n",
    "            \n",
    "        # for loop for draw rectangle: 1st: our image, 2nd: upper left corner coordinate, 3rd: lower right corner coordinate, 4th: rectangle color, \n",
    "        # 5th:the edge of thickness of rectangle  \n",
    "            cv2.rectangle(roi_original, (sx, sy), (sx + sw, sy + sh), (0, 0, 255), 2  )\n",
    "    return originalImage"
   ]
  },
  {
   "cell_type": "code",
   "execution_count": 4,
   "metadata": {},
   "outputs": [],
   "source": [
    "# face recogniton through webcam\n",
    "\n",
    "# pram: 0/1; 0:internal webcam, 1:external webcam\n",
    "video_capture = cv2.VideoCapture(0)\n",
    "while True:\n",
    "    # video_capture.read() returns 2 obj, but we only need the last frame(color image) comming from the video through webcam\n",
    "    _, originalImage = video_capture.read()\n",
    "    # convert the color image to black-white image\n",
    "    gray = cv2.cvtColor(originalImage, cv2.COLOR_BGR2GRAY)\n",
    "    canvas = detect(gray, originalImage)\n",
    "    # show the video in animated way\n",
    "    cv2.imshow('Video', canvas)\n",
    "    # if we press 'q' the video processing will shut down & webcam will be turned off \n",
    "    if cv2.waitKey(1) & 0xFF == ord('q'):\n",
    "        break\n",
    "video_capture.release()\n",
    "cv2.destroyAllWindows()"
   ]
  },
  {
   "cell_type": "code",
   "execution_count": null,
   "metadata": {},
   "outputs": [],
   "source": []
  }
 ],
 "metadata": {
  "kernelspec": {
   "display_name": "Python 3",
   "language": "python",
   "name": "python3"
  },
  "language_info": {
   "codemirror_mode": {
    "name": "ipython",
    "version": 3
   },
   "file_extension": ".py",
   "mimetype": "text/x-python",
   "name": "python",
   "nbconvert_exporter": "python",
   "pygments_lexer": "ipython3",
   "version": "3.6.8"
  }
 },
 "nbformat": 4,
 "nbformat_minor": 2
}
